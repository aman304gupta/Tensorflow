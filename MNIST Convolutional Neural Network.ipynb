{
 "cells": [
  {
   "cell_type": "code",
   "execution_count": 2,
   "metadata": {},
   "outputs": [],
   "source": [
    "%matplotlib inline\n",
    "import tensorflow as tf\n",
    "import matplotlib.pyplot as plt\n",
    "import numpy as np\n",
    "from sklearn.metrics import confusion_matrix\n",
    "import time\n",
    "import math\n",
    "from datetime import timedelta"
   ]
  },
  {
   "cell_type": "code",
   "execution_count": 3,
   "metadata": {},
   "outputs": [],
   "source": [
    "##Convolution layer 1\n",
    "filter_size1 = 5\n",
    "num_filters1 = 16\n",
    "\n",
    "##Convolutiona layer 2\n",
    "filter_size2 = 5\n",
    "num_filters2 = 36\n",
    "\n",
    "##Fully Connected Layer\n",
    "fc_size = 128"
   ]
  },
  {
   "cell_type": "code",
   "execution_count": 4,
   "metadata": {},
   "outputs": [
    {
     "name": "stdout",
     "output_type": "stream",
     "text": [
      "Extracting data/MNIST\\train-images-idx3-ubyte.gz\n",
      "Extracting data/MNIST\\train-labels-idx1-ubyte.gz\n",
      "Extracting data/MNIST\\t10k-images-idx3-ubyte.gz\n",
      "Extracting data/MNIST\\t10k-labels-idx1-ubyte.gz\n"
     ]
    }
   ],
   "source": [
    "from tensorflow.examples.tutorials.mnist import input_data\n",
    "\n",
    "data = input_data.read_data_sets('data/MNIST',one_hot=True)"
   ]
  },
  {
   "cell_type": "code",
   "execution_count": 8,
   "metadata": {},
   "outputs": [
    {
     "name": "stdout",
     "output_type": "stream",
     "text": [
      "Size of\n",
      "Training Set\t\t55000\n",
      "Test Set\t\t10000\n",
      "Validation Set\t\t5000\n"
     ]
    }
   ],
   "source": [
    "print('Size of')\n",
    "print('Training Set\\t\\t{}'.format(len(data.train.labels)))\n",
    "print('Test Set\\t\\t{}'.format(len(data.test.labels)))\n",
    "print('Validation Set\\t\\t{}'.format(len(data.validation.labels)))"
   ]
  },
  {
   "cell_type": "code",
   "execution_count": 102,
   "metadata": {},
   "outputs": [],
   "source": [
    "data.test.cls = np.argmax(data.test.labels,axis=1)"
   ]
  },
  {
   "cell_type": "code",
   "execution_count": 103,
   "metadata": {},
   "outputs": [
    {
     "data": {
      "text/plain": [
       "array([7, 2, 1, 0, 4], dtype=int64)"
      ]
     },
     "execution_count": 103,
     "metadata": {},
     "output_type": "execute_result"
    }
   ],
   "source": [
    "data.test.cls[0:5]"
   ]
  },
  {
   "cell_type": "code",
   "execution_count": 18,
   "metadata": {},
   "outputs": [],
   "source": [
    "##DIMENSIONS\n",
    "\n",
    "img_size = 28\n",
    "\n",
    "img_size_flat = img_size * img_size\n",
    "\n",
    "img_shape = (img_size,img_size)\n",
    "\n",
    "num_channels = 1\n",
    "\n",
    "num_classes = 10"
   ]
  },
  {
   "cell_type": "code",
   "execution_count": 19,
   "metadata": {},
   "outputs": [],
   "source": [
    "def new_weights(shape):\n",
    "    return tf.Variable(tf.truncated_normal(shape,stddev=0.5))"
   ]
  },
  {
   "cell_type": "code",
   "execution_count": 20,
   "metadata": {},
   "outputs": [],
   "source": [
    "def new_biases(length):\n",
    "    return tf.Variable(tf.constant(0.05,shape=[length])) ### 0.05 is the constant value for biases"
   ]
  },
  {
   "cell_type": "code",
   "execution_count": 37,
   "metadata": {},
   "outputs": [],
   "source": [
    "def new_conv_layer(input,\n",
    "                  num_input_channels,\n",
    "                  filter_size,\n",
    "                  nm_filters,\n",
    "                  use_pooling=True):\n",
    "    \n",
    "    shape = [filter_size,filter_size,num_input_channels,nm_filters]\n",
    "    \n",
    "    weights = new_weights(shape)\n",
    "    \n",
    "    biases = new_biases(nm_filters)\n",
    "    \n",
    "    layer = tf.nn.conv2d(input = input,\n",
    "                        filter = weights,\n",
    "                        strides = [1,1,1,1],\n",
    "                        padding = 'SAME')\n",
    "    layer += biases\n",
    "    \n",
    "    if use_pooling:\n",
    "        \n",
    "        layer = tf.nn.max_pool(value = layer,\n",
    "                              ksize = [1,2,2,1],\n",
    "                              strides = [1,2,2,1],\n",
    "                              padding = 'SAME')\n",
    "        \n",
    "    layer = tf.nn.relu(layer)\n",
    "    \n",
    "    return layer,weights"
   ]
  },
  {
   "cell_type": "code",
   "execution_count": 38,
   "metadata": {},
   "outputs": [],
   "source": [
    "def flatten_layer(layer):\n",
    "    \n",
    "    layer_shape = layer.get_shape()\n",
    "    \n",
    "    num_features = layer_shape[1:4].num_elements()\n",
    "    \n",
    "    layer_flat = tf.reshape(layer,[-1,num_features])\n",
    "    \n",
    "    return layer_flat,num_features"
   ]
  },
  {
   "cell_type": "code",
   "execution_count": 51,
   "metadata": {},
   "outputs": [],
   "source": [
    "def new_fc_layer(input,\n",
    "                num_inputs,\n",
    "                num_outputs,\n",
    "                use_relu=True):\n",
    "    \n",
    "    weights = new_weights(shape=[num_inputs,num_outputs])\n",
    "    \n",
    "    biases = new_biases(length=num_outputs)\n",
    "    \n",
    "    layer = tf.matmul(input,weights) + biases\n",
    "    \n",
    "    if use_relu:\n",
    "        layer = tf.nn.relu(layer)\n",
    "        \n",
    "    return layer\n"
   ]
  },
  {
   "cell_type": "code",
   "execution_count": 52,
   "metadata": {},
   "outputs": [],
   "source": [
    "x = tf.placeholder(tf.float32,shape = [None,img_size_flat],name = 'x')\n",
    "\n",
    "x_image = tf.reshape(x,[-1,img_size,img_size,num_channels])\n",
    "\n",
    "y_true = tf.placeholder(tf.float32, shape = [None,num_classes],name = 'y_true')\n",
    "\n",
    "y_true_cls = tf.argmax(y_true,axis=1)"
   ]
  },
  {
   "cell_type": "code",
   "execution_count": 53,
   "metadata": {},
   "outputs": [],
   "source": [
    "layer_conv1, weights_conv1 = new_conv_layer(input = x_image,\n",
    "                                           num_input_channels = num_channels,\n",
    "                                           filter_size = filter_size1,\n",
    "                                           nm_filters = num_filters1,\n",
    "                                           use_pooling=True)"
   ]
  },
  {
   "cell_type": "code",
   "execution_count": 54,
   "metadata": {},
   "outputs": [],
   "source": [
    "layer_conv2, weights_conv2 = new_conv_layer(input = layer_conv1,\n",
    "                                           num_input_channels = num_filters1,\n",
    "                                           filter_size = filter_size2,\n",
    "                                           nm_filters = num_filters2,\n",
    "                                           use_pooling=True)"
   ]
  },
  {
   "cell_type": "code",
   "execution_count": 55,
   "metadata": {},
   "outputs": [],
   "source": [
    "layer_flat, num_features = flatten_layer(layer_conv2)"
   ]
  },
  {
   "cell_type": "code",
   "execution_count": 56,
   "metadata": {},
   "outputs": [],
   "source": [
    "layer_fc1 = new_fc_layer(input = layer_flat,\n",
    "                        num_inputs = num_features,\n",
    "                        num_outputs = fc_size,\n",
    "                        use_relu = True)"
   ]
  },
  {
   "cell_type": "code",
   "execution_count": 58,
   "metadata": {},
   "outputs": [],
   "source": [
    "layer_fc2 = new_fc_layer(input = layer_fc1,\n",
    "                        num_inputs = fc_size,\n",
    "                        num_outputs = num_classes,\n",
    "                        use_relu = False)"
   ]
  },
  {
   "cell_type": "code",
   "execution_count": 59,
   "metadata": {},
   "outputs": [],
   "source": [
    "y_pred = tf.nn.softmax(layer_fc2)\n",
    "\n",
    "y_pred_cls = tf.argmax(y_pred,axis = 1)"
   ]
  },
  {
   "cell_type": "code",
   "execution_count": 60,
   "metadata": {},
   "outputs": [],
   "source": [
    "cross_entropy = tf.nn.softmax_cross_entropy_with_logits(logits=layer_fc2,\n",
    "                                                        labels=y_true)\n",
    "\n",
    "cost = tf.reduce_mean(cross_entropy)"
   ]
  },
  {
   "cell_type": "code",
   "execution_count": 62,
   "metadata": {},
   "outputs": [],
   "source": [
    "optimizer = tf.train.AdamOptimizer(learning_rate=1e-4).minimize(cost)\n",
    "\n",
    "correct_prediction = tf.equal(y_pred_cls,y_true_cls) ## Calculates vector of booleans\n",
    "\n",
    "accuracy = tf.reduce_mean(tf.cast(correct_prediction,tf.float32))"
   ]
  },
  {
   "cell_type": "code",
   "execution_count": 64,
   "metadata": {},
   "outputs": [],
   "source": [
    "session = tf.Session()\n",
    "\n",
    "session.run(tf.global_variables_initializer())"
   ]
  },
  {
   "cell_type": "code",
   "execution_count": 65,
   "metadata": {},
   "outputs": [],
   "source": [
    "train_batch_size = 64"
   ]
  },
  {
   "cell_type": "code",
   "execution_count": 72,
   "metadata": {},
   "outputs": [],
   "source": [
    "total_iterations = 0\n",
    "\n",
    "def optimize(num_iterations):\n",
    "    global total_iterations\n",
    "\n",
    "    start_time = time.time()\n",
    "\n",
    "    for i in range(total_iterations,\n",
    "                   total_iterations + num_iterations):\n",
    "        x_batch, y_true_batch = data.train.next_batch(train_batch_size)\n",
    "\n",
    "        feed_dict_train = {x: x_batch,\n",
    "                           y_true: y_true_batch}\n",
    "        \n",
    "        session.run(optimizer, feed_dict=feed_dict_train)\n",
    "        \n",
    "        if i % 100 == 0:\n",
    "    \n",
    "            acc = session.run(accuracy, feed_dict=feed_dict_train)\n",
    "            msg = \"Optimization Iteration: {0:>6}, Training Accuracy: {1:>6.1%}\"\n",
    "            print(msg.format(i + 1, acc))\n",
    "\n",
    "    total_iterations += num_iterations\n",
    "    end_time = time.time()\n",
    "    time_dif = end_time - start_time\n",
    "    print(\"Time usage: \" + str(timedelta(seconds=int(round(time_dif)))))"
   ]
  },
  {
   "cell_type": "code",
   "execution_count": 73,
   "metadata": {},
   "outputs": [],
   "source": [
    "def plot_example_errors(cls_pred, correct):\n",
    "  \n",
    "    incorrect = (correct == False)\n",
    "    images = data.test.images[incorrect]\n",
    "    \n",
    "    cls_pred = cls_pred[incorrect]\n",
    "    cls_true = data.test.cls[incorrect]\n",
    "    \n",
    "    plot_images(images=images[0:9],\n",
    "                cls_true=cls_true[0:9],\n",
    "                cls_pred=cls_pred[0:9])"
   ]
  },
  {
   "cell_type": "code",
   "execution_count": 74,
   "metadata": {},
   "outputs": [],
   "source": [
    "def plot_confusion_matrix(cls_pred):\n",
    " \n",
    "    cls_true = data.test.cls\n",
    "    cm = confusion_matrix(y_true=cls_true,\n",
    "                          y_pred=cls_pred)\n",
    "\n",
    "    print(cm)\n",
    "    plt.matshow(cm)\n",
    "    plt.colorbar()\n",
    "    tick_marks = np.arange(num_classes)\n",
    "    plt.xticks(tick_marks, range(num_classes))\n",
    "    plt.yticks(tick_marks, range(num_classes))\n",
    "    plt.xlabel('Predicted')\n",
    "    plt.ylabel('True')\n",
    "\n",
    "    plt.show()"
   ]
  },
  {
   "cell_type": "code",
   "execution_count": 75,
   "metadata": {},
   "outputs": [],
   "source": [
    "test_batch_size = 256\n",
    "\n",
    "def print_test_accuracy(show_example_errors=False,\n",
    "                        show_confusion_matrix=False):\n",
    "\n",
    "    num_test = len(data.test.images)\n",
    "\n",
    "    cls_pred = np.zeros(shape=num_test, dtype=np.int)\n",
    "    i = 0\n",
    "\n",
    "    while i < num_test:\n",
    "        j = min(i + test_batch_size, num_test)\n",
    "\n",
    "        images = data.test.images[i:j, :]\n",
    "\n",
    "        labels = data.test.labels[i:j, :]\n",
    "        feed_dict = {x: images,\n",
    "                     y_true: labels}\n",
    "\n",
    "        cls_pred[i:j] = session.run(y_pred_cls, feed_dict=feed_dict)\n",
    "\n",
    "        i = j\n",
    "    cls_true = data.test.cls\n",
    "    correct = (cls_true == cls_pred)\n",
    "    correct_sum = correct.sum()\n",
    "    acc = float(correct_sum) / num_test\n",
    "\n",
    "    msg = \"Accuracy on Test-Set: {0:.1%} ({1} / {2})\"\n",
    "    print(msg.format(acc, correct_sum, num_test))\n",
    "    if show_example_errors:\n",
    "        print(\"Example errors:\")\n",
    "        plot_example_errors(cls_pred=cls_pred, correct=correct)\n",
    "\n",
    "    if show_confusion_matrix:\n",
    "        print(\"Confusion Matrix:\")\n",
    "        plot_confusion_matrix(cls_pred=cls_pred)"
   ]
  },
  {
   "cell_type": "code",
   "execution_count": 76,
   "metadata": {},
   "outputs": [
    {
     "name": "stdout",
     "output_type": "stream",
     "text": [
      "Optimization Iteration:      1, Training Accuracy:   4.7%\n",
      "Optimization Iteration:    101, Training Accuracy:  23.4%\n",
      "Optimization Iteration:    201, Training Accuracy:  37.5%\n",
      "Optimization Iteration:    301, Training Accuracy:  45.3%\n",
      "Optimization Iteration:    401, Training Accuracy:  45.3%\n",
      "Optimization Iteration:    501, Training Accuracy:  68.8%\n",
      "Optimization Iteration:    601, Training Accuracy:  65.6%\n",
      "Optimization Iteration:    701, Training Accuracy:  71.9%\n",
      "Optimization Iteration:    801, Training Accuracy:  81.2%\n",
      "Optimization Iteration:    901, Training Accuracy:  68.8%\n",
      "Time usage: 0:02:15\n"
     ]
    }
   ],
   "source": [
    "optimize(num_iterations=1000) "
   ]
  },
  {
   "cell_type": "code",
   "execution_count": 78,
   "metadata": {},
   "outputs": [
    {
     "name": "stdout",
     "output_type": "stream",
     "text": [
      "Optimization Iteration:   1001, Training Accuracy:  84.4%\n",
      "Optimization Iteration:   1101, Training Accuracy:  78.1%\n",
      "Optimization Iteration:   1201, Training Accuracy:  75.0%\n",
      "Optimization Iteration:   1301, Training Accuracy:  82.8%\n",
      "Optimization Iteration:   1401, Training Accuracy:  84.4%\n",
      "Optimization Iteration:   1501, Training Accuracy:  73.4%\n",
      "Optimization Iteration:   1601, Training Accuracy:  79.7%\n",
      "Optimization Iteration:   1701, Training Accuracy:  82.8%\n",
      "Optimization Iteration:   1801, Training Accuracy:  84.4%\n",
      "Optimization Iteration:   1901, Training Accuracy:  84.4%\n",
      "Optimization Iteration:   2001, Training Accuracy:  85.9%\n",
      "Optimization Iteration:   2101, Training Accuracy:  87.5%\n",
      "Optimization Iteration:   2201, Training Accuracy:  81.2%\n",
      "Optimization Iteration:   2301, Training Accuracy:  90.6%\n",
      "Optimization Iteration:   2401, Training Accuracy:  89.1%\n",
      "Optimization Iteration:   2501, Training Accuracy:  82.8%\n",
      "Optimization Iteration:   2601, Training Accuracy:  79.7%\n",
      "Optimization Iteration:   2701, Training Accuracy:  89.1%\n",
      "Optimization Iteration:   2801, Training Accuracy:  93.8%\n",
      "Optimization Iteration:   2901, Training Accuracy:  95.3%\n",
      "Optimization Iteration:   3001, Training Accuracy:  82.8%\n",
      "Optimization Iteration:   3101, Training Accuracy:  98.4%\n",
      "Optimization Iteration:   3201, Training Accuracy:  90.6%\n",
      "Optimization Iteration:   3301, Training Accuracy:  90.6%\n",
      "Optimization Iteration:   3401, Training Accuracy:  87.5%\n",
      "Optimization Iteration:   3501, Training Accuracy:  85.9%\n",
      "Optimization Iteration:   3601, Training Accuracy:  93.8%\n",
      "Optimization Iteration:   3701, Training Accuracy:  96.9%\n",
      "Optimization Iteration:   3801, Training Accuracy:  92.2%\n",
      "Optimization Iteration:   3901, Training Accuracy:  89.1%\n",
      "Optimization Iteration:   4001, Training Accuracy:  90.6%\n",
      "Optimization Iteration:   4101, Training Accuracy:  82.8%\n",
      "Optimization Iteration:   4201, Training Accuracy:  90.6%\n",
      "Optimization Iteration:   4301, Training Accuracy:  89.1%\n",
      "Optimization Iteration:   4401, Training Accuracy:  93.8%\n",
      "Optimization Iteration:   4501, Training Accuracy:  89.1%\n",
      "Optimization Iteration:   4601, Training Accuracy:  98.4%\n",
      "Optimization Iteration:   4701, Training Accuracy:  82.8%\n",
      "Optimization Iteration:   4801, Training Accuracy:  85.9%\n",
      "Optimization Iteration:   4901, Training Accuracy:  95.3%\n",
      "Optimization Iteration:   5001, Training Accuracy:  96.9%\n",
      "Optimization Iteration:   5101, Training Accuracy:  95.3%\n",
      "Optimization Iteration:   5201, Training Accuracy:  95.3%\n",
      "Optimization Iteration:   5301, Training Accuracy:  92.2%\n",
      "Optimization Iteration:   5401, Training Accuracy:  93.8%\n",
      "Optimization Iteration:   5501, Training Accuracy:  85.9%\n",
      "Optimization Iteration:   5601, Training Accuracy:  93.8%\n",
      "Optimization Iteration:   5701, Training Accuracy:  93.8%\n",
      "Optimization Iteration:   5801, Training Accuracy:  85.9%\n",
      "Optimization Iteration:   5901, Training Accuracy:  90.6%\n",
      "Optimization Iteration:   6001, Training Accuracy:  87.5%\n",
      "Optimization Iteration:   6101, Training Accuracy:  98.4%\n",
      "Optimization Iteration:   6201, Training Accuracy:  96.9%\n",
      "Optimization Iteration:   6301, Training Accuracy:  96.9%\n",
      "Optimization Iteration:   6401, Training Accuracy:  93.8%\n",
      "Optimization Iteration:   6501, Training Accuracy:  92.2%\n",
      "Optimization Iteration:   6601, Training Accuracy:  98.4%\n",
      "Optimization Iteration:   6701, Training Accuracy:  92.2%\n",
      "Optimization Iteration:   6801, Training Accuracy:  93.8%\n",
      "Optimization Iteration:   6901, Training Accuracy:  98.4%\n",
      "Optimization Iteration:   7001, Training Accuracy: 100.0%\n",
      "Optimization Iteration:   7101, Training Accuracy:  89.1%\n",
      "Optimization Iteration:   7201, Training Accuracy:  95.3%\n",
      "Optimization Iteration:   7301, Training Accuracy:  96.9%\n",
      "Optimization Iteration:   7401, Training Accuracy:  96.9%\n",
      "Optimization Iteration:   7501, Training Accuracy:  93.8%\n",
      "Optimization Iteration:   7601, Training Accuracy:  93.8%\n",
      "Optimization Iteration:   7701, Training Accuracy:  93.8%\n",
      "Optimization Iteration:   7801, Training Accuracy:  98.4%\n",
      "Optimization Iteration:   7901, Training Accuracy:  96.9%\n",
      "Optimization Iteration:   8001, Training Accuracy:  93.8%\n",
      "Optimization Iteration:   8101, Training Accuracy:  98.4%\n",
      "Optimization Iteration:   8201, Training Accuracy:  95.3%\n",
      "Optimization Iteration:   8301, Training Accuracy:  95.3%\n",
      "Optimization Iteration:   8401, Training Accuracy:  92.2%\n",
      "Optimization Iteration:   8501, Training Accuracy:  93.8%\n",
      "Optimization Iteration:   8601, Training Accuracy:  96.9%\n",
      "Optimization Iteration:   8701, Training Accuracy:  92.2%\n",
      "Optimization Iteration:   8801, Training Accuracy:  93.8%\n",
      "Optimization Iteration:   8901, Training Accuracy:  93.8%\n",
      "Optimization Iteration:   9001, Training Accuracy:  92.2%\n",
      "Optimization Iteration:   9101, Training Accuracy:  90.6%\n",
      "Optimization Iteration:   9201, Training Accuracy: 100.0%\n",
      "Optimization Iteration:   9301, Training Accuracy:  98.4%\n",
      "Optimization Iteration:   9401, Training Accuracy: 100.0%\n",
      "Optimization Iteration:   9501, Training Accuracy:  96.9%\n",
      "Optimization Iteration:   9601, Training Accuracy:  93.8%\n",
      "Optimization Iteration:   9701, Training Accuracy:  90.6%\n",
      "Optimization Iteration:   9801, Training Accuracy:  98.4%\n",
      "Optimization Iteration:   9901, Training Accuracy:  90.6%\n",
      "Time usage: 0:33:25\n"
     ]
    }
   ],
   "source": [
    "optimize(num_iterations = 9000)"
   ]
  },
  {
   "cell_type": "code",
   "execution_count": 108,
   "metadata": {},
   "outputs": [],
   "source": [
    "test_batch_size = 256\n",
    "\n",
    "def print_test_accuracy(show_example_errors=False,\n",
    "                        show_confusion_matrix=False):\n",
    "\n",
    "    num_test = len(data.test.images)\n",
    "\n",
    "    cls_pred = np.zeros(shape=num_test, dtype=np.int)\n",
    "    i = 0\n",
    "\n",
    "    while i < num_test:\n",
    "        j = min(i + test_batch_size, num_test)\n",
    "\n",
    "        images = data.test.images[i:j, :]\n",
    "\n",
    "        labels = data.test.labels[i:j, :]\n",
    "        feed_dict = {x: images,\n",
    "                     y_true: labels}\n",
    "\n",
    "        cls_pred[i:j] = session.run(y_pred_cls, feed_dict=feed_dict)\n",
    "\n",
    "        i = j\n",
    "    cls_true = data.test.cls\n",
    "    correct = (cls_true == cls_pred)\n",
    "    correct_sum = correct.sum()\n",
    "    acc = float(correct_sum) / num_test\n",
    "\n",
    "    msg = \"Accuracy on Test-Set: {0:.1%} ({1} / {2})\"\n",
    "    print(msg.format(acc, correct_sum, num_test))\n",
    "    if show_example_errors:\n",
    "        print(\"Example errors:\")\n",
    "        plot_example_errors(cls_pred=cls_pred, correct=correct)\n",
    "\n",
    "    if show_confusion_matrix:\n",
    "        print(\"Confusion Matrix:\")\n",
    "        plot_confusion_matrix(cls_pred=cls_pred)"
   ]
  },
  {
   "cell_type": "code",
   "execution_count": 109,
   "metadata": {},
   "outputs": [
    {
     "name": "stdout",
     "output_type": "stream",
     "text": [
      "Accuracy on Test-Set: 95.0% (9498 / 10000)\n"
     ]
    }
   ],
   "source": [
    "print_test_accuracy(show_example_errors=False,\n",
    "                    show_confusion_matrix=False)"
   ]
  },
  {
   "cell_type": "code",
   "execution_count": 110,
   "metadata": {},
   "outputs": [
    {
     "name": "stdout",
     "output_type": "stream",
     "text": [
      "Optimization Iteration:  10001, Training Accuracy:  93.8%\n",
      "Time usage: 0:00:14\n"
     ]
    }
   ],
   "source": [
    "optimize(num_iterations=100)"
   ]
  },
  {
   "cell_type": "code",
   "execution_count": 111,
   "metadata": {},
   "outputs": [
    {
     "name": "stdout",
     "output_type": "stream",
     "text": [
      "Accuracy on Test-Set: 95.0% (9505 / 10000)\n"
     ]
    }
   ],
   "source": [
    "print_test_accuracy()"
   ]
  },
  {
   "cell_type": "code",
   "execution_count": 112,
   "metadata": {},
   "outputs": [
    {
     "name": "stdout",
     "output_type": "stream",
     "text": [
      "Optimization Iteration:  10101, Training Accuracy:  96.9%\n",
      "Optimization Iteration:  10201, Training Accuracy:  96.9%\n",
      "Optimization Iteration:  10301, Training Accuracy:  96.9%\n",
      "Optimization Iteration:  10401, Training Accuracy:  96.9%\n",
      "Optimization Iteration:  10501, Training Accuracy:  93.8%\n",
      "Time usage: 0:01:11\n"
     ]
    }
   ],
   "source": [
    "optimize(num_iterations=500)"
   ]
  },
  {
   "cell_type": "code",
   "execution_count": 113,
   "metadata": {},
   "outputs": [
    {
     "name": "stdout",
     "output_type": "stream",
     "text": [
      "Accuracy on Test-Set: 95.0% (9503 / 10000)\n"
     ]
    }
   ],
   "source": [
    "print_test_accuracy()"
   ]
  },
  {
   "cell_type": "code",
   "execution_count": 114,
   "metadata": {},
   "outputs": [
    {
     "name": "stdout",
     "output_type": "stream",
     "text": [
      "Optimization Iteration:  10601, Training Accuracy:  95.3%\n",
      "Optimization Iteration:  10701, Training Accuracy:  96.9%\n",
      "Optimization Iteration:  10801, Training Accuracy:  93.8%\n",
      "Optimization Iteration:  10901, Training Accuracy:  98.4%\n",
      "Optimization Iteration:  11001, Training Accuracy: 100.0%\n",
      "Optimization Iteration:  11101, Training Accuracy:  96.9%\n",
      "Optimization Iteration:  11201, Training Accuracy:  95.3%\n",
      "Optimization Iteration:  11301, Training Accuracy:  92.2%\n",
      "Optimization Iteration:  11401, Training Accuracy:  96.9%\n",
      "Optimization Iteration:  11501, Training Accuracy:  98.4%\n",
      "Time usage: 0:02:16\n"
     ]
    }
   ],
   "source": [
    "optimize(num_iterations=1000)"
   ]
  },
  {
   "cell_type": "code",
   "execution_count": 115,
   "metadata": {},
   "outputs": [
    {
     "name": "stdout",
     "output_type": "stream",
     "text": [
      "Accuracy on Test-Set: 95.3% (9533 / 10000)\n"
     ]
    }
   ],
   "source": [
    "print_test_accuracy()"
   ]
  },
  {
   "cell_type": "code",
   "execution_count": null,
   "metadata": {},
   "outputs": [],
   "source": []
  }
 ],
 "metadata": {
  "kernelspec": {
   "display_name": "Python 3",
   "language": "python",
   "name": "python3"
  },
  "language_info": {
   "codemirror_mode": {
    "name": "ipython",
    "version": 3
   },
   "file_extension": ".py",
   "mimetype": "text/x-python",
   "name": "python",
   "nbconvert_exporter": "python",
   "pygments_lexer": "ipython3",
   "version": "3.5.4"
  }
 },
 "nbformat": 4,
 "nbformat_minor": 2
}
